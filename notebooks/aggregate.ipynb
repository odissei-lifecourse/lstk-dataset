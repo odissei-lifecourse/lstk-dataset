{
 "cells": [
  {
   "cell_type": "markdown",
   "id": "81303f72-bd6c-4f4a-9afa-1c51d91c08cd",
   "metadata": {},
   "source": [
    "## Aggregate files where necessary"
   ]
  },
  {
   "cell_type": "code",
   "execution_count": 16,
   "id": "6f0dbee5-64a1-4d8c-add1-1298ba878da4",
   "metadata": {},
   "outputs": [],
   "source": [
    "from pathlib import Path\n",
    "import duckdb\n",
    "import pyarrow as pa\n",
    "import pyarrow.parquet as pq\n",
    "from omegaconf import OmegaConf\n",
    "from tqdm import tqdm"
   ]
  },
  {
   "cell_type": "code",
   "execution_count": 14,
   "id": "cffd0dcd-7e63-4508-ab8a-f9abe3ee2155",
   "metadata": {},
   "outputs": [],
   "source": [
    "config = OmegaConf.load(\"config.yaml\")\n",
    "\n",
    "filename = f\"{config.output.path}citing.parquet\"\n",
    "chunk_size = 100_000\n",
    "# destination = \"data/citing_aggregated.parquet\""
   ]
  },
  {
   "cell_type": "code",
   "execution_count": 28,
   "id": "3e9321b5-bb88-4f92-91cb-95a0c4478fcf",
   "metadata": {},
   "outputs": [],
   "source": [
    "def aggregate(query, tbl_src, name_suffix_out, chunk_size=100_000):\n",
    "    devrun_maxiter = 10\n",
    "\n",
    "    query = f\"{query} FROM {tbl_src!s}\"\n",
    "    destination = f\"{tbl_src.stem}{name_suffix_out}\"\n",
    "    destination = Path(destination).with_suffix(tbl_src.suffix)\n",
    "\n",
    "    with duckdb.connect() as con:\n",
    "        print(query)\n",
    "        arrow_stream = con.execute(query).fetch_record_batch(rows_per_batch=chunk_size)\n",
    "\n",
    "        first_batch = next(arrow_stream)\n",
    "        with pa.parquet.ParquetWriter(destination, first_batch.schema) as writer:\n",
    "            writer.write_batch(first_batch)\n",
    "            for i, batch in tqdm(enumerate(arrow_stream), desc=\"Processing records\"):\n",
    "                writer.write_batch(batch)\n",
    "                if i > devrun_maxiter:\n",
    "                    break"
   ]
  },
  {
   "cell_type": "code",
   "execution_count": 29,
   "id": "76913625-4163-44b2-af7e-04ad801fcc2f",
   "metadata": {},
   "outputs": [
    {
     "name": "stdout",
     "output_type": "stream",
     "text": [
      "SELECT DISTINCT AuthorId\n",
      ", Year\n",
      ", CitedAuthorId\n",
      " FROM data/citing.parquet\n"
     ]
    },
    {
     "ename": "ParserException",
     "evalue": "Parser Error: syntax error at or near \"/\"",
     "output_type": "error",
     "traceback": [
      "\u001b[0;31m---------------------------------------------------------------------------\u001b[0m",
      "\u001b[0;31mParserException\u001b[0m                           Traceback (most recent call last)",
      "Cell \u001b[0;32mIn[29], line 3\u001b[0m\n\u001b[1;32m      1\u001b[0m \u001b[38;5;28;01mfor\u001b[39;00m tbl, query \u001b[38;5;129;01min\u001b[39;00m config\u001b[38;5;241m.\u001b[39maggregate\u001b[38;5;241m.\u001b[39mtables\u001b[38;5;241m.\u001b[39mitems():\n\u001b[1;32m      2\u001b[0m     tbl_src \u001b[38;5;241m=\u001b[39m (Path(config\u001b[38;5;241m.\u001b[39moutput\u001b[38;5;241m.\u001b[39mpath) \u001b[38;5;241m/\u001b[39m Path(tbl))\u001b[38;5;241m.\u001b[39mwith_suffix(config\u001b[38;5;241m.\u001b[39moutput\u001b[38;5;241m.\u001b[39mextension)\n\u001b[0;32m----> 3\u001b[0m     \u001b[43maggregate\u001b[49m\u001b[43m(\u001b[49m\u001b[43mquery\u001b[49m\u001b[43m,\u001b[49m\u001b[43m \u001b[49m\u001b[43mtbl_src\u001b[49m\u001b[43m,\u001b[49m\u001b[43m \u001b[49m\u001b[43mconfig\u001b[49m\u001b[38;5;241;43m.\u001b[39;49m\u001b[43maggregate\u001b[49m\u001b[38;5;241;43m.\u001b[39;49m\u001b[43msuffix\u001b[49m\u001b[43m)\u001b[49m\n",
      "Cell \u001b[0;32mIn[28], line 8\u001b[0m, in \u001b[0;36maggregate\u001b[0;34m(query, tbl_src, name_suffix_out, chunk_size)\u001b[0m\n\u001b[1;32m      5\u001b[0m destination \u001b[38;5;241m=\u001b[39m \u001b[38;5;124mf\u001b[39m\u001b[38;5;124m\"\u001b[39m\u001b[38;5;132;01m{\u001b[39;00mtbl_src\u001b[38;5;241m.\u001b[39mstem\u001b[38;5;132;01m}\u001b[39;00m\u001b[38;5;132;01m{\u001b[39;00mname_suffix_out\u001b[38;5;132;01m}\u001b[39;00m\u001b[38;5;124m\"\u001b[39m\n\u001b[1;32m      6\u001b[0m destination \u001b[38;5;241m=\u001b[39m Path(destination)\u001b[38;5;241m.\u001b[39mwith_suffix(tbl_src\u001b[38;5;241m.\u001b[39msuffix)\n\u001b[0;32m----> 8\u001b[0m \u001b[43m\u001b[49m\u001b[38;5;28;43;01mwith\u001b[39;49;00m\u001b[43m \u001b[49m\u001b[43mduckdb\u001b[49m\u001b[38;5;241;43m.\u001b[39;49m\u001b[43mconnect\u001b[49m\u001b[43m(\u001b[49m\u001b[43m)\u001b[49m\u001b[43m \u001b[49m\u001b[38;5;28;43;01mas\u001b[39;49;00m\u001b[43m \u001b[49m\u001b[43mcon\u001b[49m\u001b[43m:\u001b[49m\n\u001b[1;32m      9\u001b[0m \u001b[43m    \u001b[49m\u001b[38;5;28;43mprint\u001b[39;49m\u001b[43m(\u001b[49m\u001b[43mquery\u001b[49m\u001b[43m)\u001b[49m\n\u001b[1;32m     10\u001b[0m \u001b[43m    \u001b[49m\u001b[43marrow_stream\u001b[49m\u001b[43m \u001b[49m\u001b[38;5;241;43m=\u001b[39;49m\u001b[43m \u001b[49m\u001b[43mcon\u001b[49m\u001b[38;5;241;43m.\u001b[39;49m\u001b[43mexecute\u001b[49m\u001b[43m(\u001b[49m\u001b[43mquery\u001b[49m\u001b[43m)\u001b[49m\u001b[38;5;241;43m.\u001b[39;49m\u001b[43mfetch_record_batch\u001b[49m\u001b[43m(\u001b[49m\u001b[43mrows_per_batch\u001b[49m\u001b[38;5;241;43m=\u001b[39;49m\u001b[43mchunk_size\u001b[49m\u001b[43m)\u001b[49m\n",
      "Cell \u001b[0;32mIn[28], line 10\u001b[0m, in \u001b[0;36maggregate\u001b[0;34m(query, tbl_src, name_suffix_out, chunk_size)\u001b[0m\n\u001b[1;32m      8\u001b[0m \u001b[38;5;28;01mwith\u001b[39;00m duckdb\u001b[38;5;241m.\u001b[39mconnect() \u001b[38;5;28;01mas\u001b[39;00m con:\n\u001b[1;32m      9\u001b[0m     \u001b[38;5;28mprint\u001b[39m(query)\n\u001b[0;32m---> 10\u001b[0m     arrow_stream \u001b[38;5;241m=\u001b[39m \u001b[43mcon\u001b[49m\u001b[38;5;241;43m.\u001b[39;49m\u001b[43mexecute\u001b[49m\u001b[43m(\u001b[49m\u001b[43mquery\u001b[49m\u001b[43m)\u001b[49m\u001b[38;5;241m.\u001b[39mfetch_record_batch(rows_per_batch\u001b[38;5;241m=\u001b[39mchunk_size)\n\u001b[1;32m     12\u001b[0m     first_batch \u001b[38;5;241m=\u001b[39m \u001b[38;5;28mnext\u001b[39m(arrow_stream)\n\u001b[1;32m     13\u001b[0m     \u001b[38;5;28;01mwith\u001b[39;00m pa\u001b[38;5;241m.\u001b[39mparquet\u001b[38;5;241m.\u001b[39mParquetWriter(destination, first_batch\u001b[38;5;241m.\u001b[39mschema) \u001b[38;5;28;01mas\u001b[39;00m writer:\n",
      "\u001b[0;31mParserException\u001b[0m: Parser Error: syntax error at or near \"/\""
     ]
    }
   ],
   "source": [
    "for tbl, query in config.aggregate.tables.items():\n",
    "    tbl_src = (Path(config.output.path) / Path(tbl)).with_suffix(config.output.extension)\n",
    "    aggregate(query, tbl_src, config.aggregate.suffix)\n"
   ]
  },
  {
   "cell_type": "code",
   "execution_count": 22,
   "id": "2c631720-47ba-4f8c-a919-f5e7c782f494",
   "metadata": {},
   "outputs": [
    {
     "data": {
      "text/plain": [
       "'_aggregated'"
      ]
     },
     "execution_count": 22,
     "metadata": {},
     "output_type": "execute_result"
    }
   ],
   "source": [
    "config.aggregate.suffix"
   ]
  },
  {
   "cell_type": "code",
   "execution_count": 27,
   "id": "f304a734-fe7e-40d3-b15e-d0a48423a281",
   "metadata": {},
   "outputs": [
    {
     "data": {
      "text/plain": [
       "'myfile_test'"
      ]
     },
     "execution_count": 27,
     "metadata": {},
     "output_type": "execute_result"
    }
   ],
   "source": [
    "f\"{Path(\"/path/myfile.txt\").stem}_test\""
   ]
  },
  {
   "cell_type": "code",
   "execution_count": null,
   "id": "2bc406b2-f33f-416e-82ca-d577ff7da564",
   "metadata": {},
   "outputs": [],
   "source": []
  },
  {
   "cell_type": "code",
   "execution_count": 8,
   "id": "23e9cf40-5b11-4d9f-bfe1-b3aa80f9b33d",
   "metadata": {},
   "outputs": [
    {
     "data": {
      "text/plain": [
       "{'citing': 'SELECT DISTINCT AuthorId\\n, Year\\n, CitedAuthorId\\n'}"
      ]
     },
     "execution_count": 8,
     "metadata": {},
     "output_type": "execute_result"
    }
   ],
   "source": [
    "config.aggregate.tables"
   ]
  },
  {
   "cell_type": "code",
   "execution_count": null,
   "id": "06bff314-1351-44e2-8cdc-a30c21703e84",
   "metadata": {},
   "outputs": [],
   "source": []
  },
  {
   "cell_type": "code",
   "execution_count": 109,
   "id": "aa844494-98e2-4b79-bb39-139b850e5896",
   "metadata": {},
   "outputs": [
    {
     "data": {
      "text/plain": [
       "'data/'"
      ]
     },
     "execution_count": 109,
     "metadata": {},
     "output_type": "execute_result"
    }
   ],
   "source": [
    "config.db.views.keys()\n",
    "config.output.path"
   ]
  },
  {
   "cell_type": "code",
   "execution_count": 5,
   "id": "0eebee07-b676-47af-88d9-bb03700fd582",
   "metadata": {},
   "outputs": [
    {
     "data": {
      "text/plain": [
       "['citing']"
      ]
     },
     "execution_count": 5,
     "metadata": {},
     "output_type": "execute_result"
    }
   ],
   "source": [
    "config.aggregate.tables"
   ]
  },
  {
   "cell_type": "code",
   "execution_count": 113,
   "id": "8447416a-eb44-433b-9fa4-193ed29ed980",
   "metadata": {},
   "outputs": [],
   "source": [
    "query = f\"\"\"\n",
    "        SELECT DISTINCT AuthorId\n",
    "            , Year\n",
    "            , CitedAuthorId\n",
    "        FROM '{filename}'\n",
    "     \"\"\""
   ]
  },
  {
   "cell_type": "code",
   "execution_count": 117,
   "id": "42f71cc8-2bd3-4caa-bb21-72f487ca1591",
   "metadata": {},
   "outputs": [
    {
     "name": "stderr",
     "output_type": "stream",
     "text": [
      "Processing records: 3275it [01:07, 48.28it/s]\n"
     ]
    }
   ],
   "source": []
  },
  {
   "cell_type": "code",
   "execution_count": null,
   "id": "c28e2d97-822e-44e9-9b09-b30083a2e480",
   "metadata": {},
   "outputs": [],
   "source": []
  },
  {
   "cell_type": "code",
   "execution_count": null,
   "id": "8cdd27d0-815c-49ad-a530-edcc36c0451d",
   "metadata": {},
   "outputs": [],
   "source": []
  },
  {
   "cell_type": "code",
   "execution_count": null,
   "id": "a1122e4d-f3de-4898-b219-889012f3e7b0",
   "metadata": {},
   "outputs": [],
   "source": []
  },
  {
   "cell_type": "code",
   "execution_count": null,
   "id": "5a725a3e-3543-4a04-99c2-aa075280046a",
   "metadata": {},
   "outputs": [],
   "source": []
  },
  {
   "cell_type": "code",
   "execution_count": null,
   "id": "edcf7c88-6a64-4f82-9327-29c12714247e",
   "metadata": {},
   "outputs": [],
   "source": []
  },
  {
   "cell_type": "code",
   "execution_count": 60,
   "id": "8dc60e21-d1f1-4130-b284-2d5c79677995",
   "metadata": {},
   "outputs": [],
   "source": []
  },
  {
   "cell_type": "code",
   "execution_count": null,
   "id": "50ec288b-c8e5-4bb8-bfa9-87a1ddc98b5c",
   "metadata": {},
   "outputs": [],
   "source": []
  }
 ],
 "metadata": {
  "kernelspec": {
   "display_name": "Python 3 (ipykernel)",
   "language": "python",
   "name": "python3"
  },
  "language_info": {
   "codemirror_mode": {
    "name": "ipython",
    "version": 3
   },
   "file_extension": ".py",
   "mimetype": "text/x-python",
   "name": "python",
   "nbconvert_exporter": "python",
   "pygments_lexer": "ipython3",
   "version": "3.12.3"
  }
 },
 "nbformat": 4,
 "nbformat_minor": 5
}
