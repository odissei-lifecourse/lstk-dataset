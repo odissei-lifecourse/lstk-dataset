{
 "cells": [
  {
   "cell_type": "code",
   "execution_count": 1,
   "id": "d9bf570f-2f4f-40c0-b71c-7382b04100d5",
   "metadata": {},
   "outputs": [],
   "source": [
    "import sqlite3 as sqlite\n",
    "from pathlib import Path\n",
    "import pandas as pd\n",
    "import pyarrow as pa\n",
    "import pyarrow.parquet as pq\n",
    "from omegaconf import OmegaConf\n",
    "from tqdm import tqdm"
   ]
  },
  {
   "cell_type": "code",
   "execution_count": 2,
   "id": "a7ed9ab1-3d09-4c10-85cb-b040c30f328e",
   "metadata": {},
   "outputs": [],
   "source": []
  },
  {
   "cell_type": "code",
   "execution_count": 3,
   "id": "504a2c07-fcd9-4acf-b0f9-c523a10d6edf",
   "metadata": {},
   "outputs": [
    {
     "data": {
      "text/plain": [
       "'/mnt/ssd/AcademicGraph/AcademicGraph.sqlite'"
      ]
     },
     "execution_count": 3,
     "metadata": {},
     "output_type": "execute_result"
    }
   ],
   "source": [
    "config = OmegaConf.load(\"config.yaml\")\n",
    "config.db.path"
   ]
  },
  {
   "cell_type": "code",
   "execution_count": 4,
   "id": "be728863-de27-44a8-a427-6a12af4bf7ae",
   "metadata": {},
   "outputs": [
    {
     "data": {
      "text/plain": [
       "dict_keys(['authors', 'papers', 'affiliations', 'collab', 'citing'])"
      ]
     },
     "execution_count": 4,
     "metadata": {},
     "output_type": "execute_result"
    }
   ],
   "source": [
    "config.db.views.keys()"
   ]
  },
  {
   "cell_type": "code",
   "execution_count": 5,
   "id": "69033cb2-8fa5-4729-99a6-ef397c40b390",
   "metadata": {},
   "outputs": [],
   "source": [
    "con = sqlite.connect(config.db.path)"
   ]
  },
  {
   "cell_type": "code",
   "execution_count": 6,
   "id": "485fcdb2-cfd3-4533-9655-dd477f4e984b",
   "metadata": {},
   "outputs": [],
   "source": [
    "for name, query in config.db.views.items():\n",
    "    con.execute(query)"
   ]
  },
  {
   "cell_type": "code",
   "execution_count": 8,
   "id": "5ffecc6a-39a7-4617-9dfd-bf725bdea6cc",
   "metadata": {},
   "outputs": [],
   "source": [
    "def db_to_file(con, sql_source, destination, chunksize=10_000, schema=None, view_prefix=\"v_\"):\n",
    "    pqwriter = None\n",
    "    if schema is not None:\n",
    "        schema = pa.schema(schema)\n",
    "    for i, chunk in tqdm(enumerate(pd.read_sql(f\"select * from {view_prefix}{sql_source}\", con, chunksize=chunksize)),\n",
    "                      desc=f\"Processing {sql_source}\"\n",
    "                     ):\n",
    "        table = pa.Table.from_pandas(chunk, schema=schema)\n",
    "\n",
    "        if i == 0:\n",
    "            pqwriter = pq.ParquetWriter(destination, table.schema)\n",
    "\n",
    "        pqwriter.write_table(table)\n",
    "        if i > 5:\n",
    "            break\n",
    "\n",
    "    # close the parquet writer\n",
    "    if pqwriter:\n",
    "        pqwriter.close()"
   ]
  },
  {
   "cell_type": "code",
   "execution_count": null,
   "id": "faaefef0-4003-4f49-ae77-22a93ccdcebd",
   "metadata": {},
   "outputs": [],
   "source": []
  },
  {
   "cell_type": "code",
   "execution_count": 9,
   "id": "52031494-a448-492d-820b-743be66dad99",
   "metadata": {},
   "outputs": [
    {
     "data": {
      "text/plain": [
       "PaperId: int64\n",
       "AuthorId: int64\n",
       "DocType: string\n",
       "PaperTitle: string\n",
       "Date: string\n",
       "JournalId: int64\n",
       "ConferenceSeriesId: int64\n",
       "AuthorCount: int64\n",
       "CitationCount_y10: int64"
      ]
     },
     "execution_count": 9,
     "metadata": {},
     "output_type": "execute_result"
    }
   ],
   "source": [
    "myschema = [(k,v) for k,v in config.output.schema[\"papers\"].items()]\n",
    "pa.schema(myschema)"
   ]
  },
  {
   "cell_type": "code",
   "execution_count": 10,
   "id": "7a8f99b9-65fa-41ea-841c-53947eebc8d6",
   "metadata": {},
   "outputs": [
    {
     "name": "stdout",
     "output_type": "stream",
     "text": [
      "authors\n"
     ]
    },
    {
     "name": "stderr",
     "output_type": "stream",
     "text": [
      "Processing authors: 6it [00:00,  9.47it/s]\n"
     ]
    },
    {
     "name": "stdout",
     "output_type": "stream",
     "text": [
      "papers\n"
     ]
    },
    {
     "name": "stderr",
     "output_type": "stream",
     "text": [
      "Processing papers: 6it [02:42, 27.07s/it]\n"
     ]
    },
    {
     "name": "stdout",
     "output_type": "stream",
     "text": [
      "affiliations\n"
     ]
    },
    {
     "name": "stderr",
     "output_type": "stream",
     "text": [
      "Processing affiliations: 6it [00:08,  1.43s/it]\n"
     ]
    },
    {
     "name": "stdout",
     "output_type": "stream",
     "text": [
      "collab\n"
     ]
    },
    {
     "name": "stderr",
     "output_type": "stream",
     "text": [
      "Processing collab: 6it [00:00, 20.92it/s]\n"
     ]
    },
    {
     "name": "stdout",
     "output_type": "stream",
     "text": [
      "citing\n"
     ]
    },
    {
     "name": "stderr",
     "output_type": "stream",
     "text": [
      "Processing citing: 6it [00:05,  1.06it/s]\n"
     ]
    }
   ],
   "source": [
    "schema_dict = config.output.schema\n",
    "for sql_source in config.db.views.keys():\n",
    "    print(sql_source)\n",
    "    outfile = Path(config.output.path) / sql_source\n",
    "    outfile = outfile.with_suffix(config.output.extension)\n",
    "    schema = None\n",
    "    if sql_source in schema_dict:\n",
    "        schema = [(k,v) for k,v in schema_dict[sql_source].items()]\n",
    "    db_to_file(con, sql_source, outfile, schema=schema)"
   ]
  },
  {
   "cell_type": "code",
   "execution_count": null,
   "id": "30407801-5432-484f-a1ec-5bc58a35519a",
   "metadata": {},
   "outputs": [],
   "source": []
  },
  {
   "cell_type": "code",
   "execution_count": 20,
   "id": "a33f5703-dc3b-4fe3-8c5c-22c080693cc7",
   "metadata": {},
   "outputs": [],
   "source": [
    "con.close()"
   ]
  },
  {
   "cell_type": "code",
   "execution_count": null,
   "id": "81c10f54-5c03-4943-a3e4-1be7a8ebaf18",
   "metadata": {},
   "outputs": [],
   "source": []
  },
  {
   "cell_type": "code",
   "execution_count": null,
   "id": "2456dcca-e7ca-4371-941f-722fb85d0a84",
   "metadata": {},
   "outputs": [],
   "source": []
  },
  {
   "cell_type": "code",
   "execution_count": 5,
   "id": "2f2d3feb-5625-4802-93f5-54d23f08c2ca",
   "metadata": {},
   "outputs": [],
   "source": []
  },
  {
   "cell_type": "code",
   "execution_count": null,
   "id": "79a8f0cb-bac3-4b77-9307-a24c6dabde68",
   "metadata": {},
   "outputs": [],
   "source": []
  },
  {
   "cell_type": "code",
   "execution_count": null,
   "id": "2c3e8c46-7df6-49e4-a8d7-c2b95283fbed",
   "metadata": {},
   "outputs": [],
   "source": []
  },
  {
   "cell_type": "code",
   "execution_count": 20,
   "id": "1dc3c158-c09e-40bb-bd00-317b78e8a2b0",
   "metadata": {},
   "outputs": [],
   "source": []
  },
  {
   "cell_type": "code",
   "execution_count": null,
   "id": "a9048d70-c20f-406a-b0bf-78301ffd726e",
   "metadata": {},
   "outputs": [],
   "source": []
  },
  {
   "cell_type": "code",
   "execution_count": null,
   "id": "4c0c54d0-7737-4990-879e-ba454a2de972",
   "metadata": {},
   "outputs": [],
   "source": []
  },
  {
   "cell_type": "code",
   "execution_count": null,
   "id": "09afe737-6ab8-4176-9eac-43a18866a687",
   "metadata": {},
   "outputs": [],
   "source": []
  },
  {
   "cell_type": "code",
   "execution_count": null,
   "id": "23b1ea09-a77f-436d-8f40-2f614453890a",
   "metadata": {},
   "outputs": [],
   "source": []
  },
  {
   "cell_type": "code",
   "execution_count": null,
   "id": "8883ce7c-ac56-4d61-8709-586559595f48",
   "metadata": {},
   "outputs": [],
   "source": []
  }
 ],
 "metadata": {
  "kernelspec": {
   "display_name": "Python 3 (ipykernel)",
   "language": "python",
   "name": "python3"
  },
  "language_info": {
   "codemirror_mode": {
    "name": "ipython",
    "version": 3
   },
   "file_extension": ".py",
   "mimetype": "text/x-python",
   "name": "python",
   "nbconvert_exporter": "python",
   "pygments_lexer": "ipython3",
   "version": "3.12.3"
  }
 },
 "nbformat": 4,
 "nbformat_minor": 5
}
