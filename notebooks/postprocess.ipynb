{
 "cells": [
  {
   "cell_type": "code",
   "execution_count": 1,
   "id": "9433a49a-db28-49d3-80d4-2f3bf355b5db",
   "metadata": {},
   "outputs": [],
   "source": [
    "import duckdb\n",
    "import pyarrow as pa\n",
    "import pyarrow.dataset as ds\n",
    "import pyarrow.parquet as pq\n",
    "from tqdm import tqdm"
   ]
  },
  {
   "cell_type": "code",
   "execution_count": 5,
   "id": "a8da8915-1729-4775-87ff-757e48fae0fe",
   "metadata": {},
   "outputs": [
    {
     "data": {
      "text/plain": [
       "'/home/flavio/repositories/lstk-dataset/notebooks'"
      ]
     },
     "execution_count": 5,
     "metadata": {},
     "output_type": "execute_result"
    }
   ],
   "source": [
    "import os\n",
    "\n",
    "os.getcwd()"
   ]
  },
  {
   "cell_type": "code",
   "execution_count": 11,
   "id": "b3d30e1a-6549-45f8-bd44-2a483218d1ff",
   "metadata": {},
   "outputs": [],
   "source": [
    "authors_ds = ds.dataset(\"../data/authors.parquet\")\n",
    "# authors_db = duckdb.arrow(authors_ds)"
   ]
  },
  {
   "cell_type": "code",
   "execution_count": 12,
   "id": "781e31e9-cc52-4791-bc42-2aee01876ab8",
   "metadata": {},
   "outputs": [],
   "source": [
    "affiliations_ds = ds.dataset(\"../data/affiliations.parquet\")\n"
   ]
  },
  {
   "cell_type": "code",
   "execution_count": null,
   "id": "fb4aaec9-1f16-416f-aa61-bfad19758346",
   "metadata": {},
   "outputs": [],
   "source": []
  },
  {
   "cell_type": "code",
   "execution_count": 15,
   "id": "bc93147c-1e8a-47b7-978f-cde6a4197963",
   "metadata": {},
   "outputs": [
    {
     "name": "stderr",
     "output_type": "stream",
     "text": [
      "Processing batches: 21it [00:00, 32.34it/s]\n"
     ]
    }
   ],
   "source": [
    "with duckdb.connect() as con:\n",
    "    chunk_size = 50_000\n",
    "    query = con.execute(\"\"\"\n",
    "        WITH ranked_duplicates AS (\n",
    "            SELECT \n",
    "                *,\n",
    "                ROW_NUMBER() OVER (\n",
    "                    PARTITION BY AuthorId, Year\n",
    "                    ORDER BY random()\n",
    "                ) as row_num\n",
    "            FROM affiliations_ds\n",
    "        )\n",
    "        SELECT * FROM authors_ds\n",
    "        LEFT JOIN (\n",
    "            SELECT affiliations.AuthorId, \n",
    "            Iso3166Code as Iso3166Code_FirstAffiliation\n",
    "            FROM ranked_duplicates AS affiliations \n",
    "            INNER JOIN (\n",
    "              SELECT AuthorId, \n",
    "              MIN(Year) AS first_affiliation_year\n",
    "              FROM ranked_duplicates \n",
    "              GROUP BY AuthorId\n",
    "            ) as b \n",
    "            ON (affiliations.authorid=b.authorid \n",
    "                and affiliations.year=b.first_affiliation_year\n",
    "            )\n",
    "            WHERE row_num = 1\n",
    "        )\n",
    "        USING (AuthorId) \n",
    "    \"\"\")\n",
    "    record_batch_reader = query.fetch_record_batch(chunk_size)\n",
    "    first_chunk = next(record_batch_reader)\n",
    "    with pq.ParquetWriter(\"../data/mytest.parquet\", first_chunk.schema) as writer:\n",
    "        writer.write(first_chunk)\n",
    "        for i, chunk in tqdm(enumerate(record_batch_reader), desc=\"Processing batches\"):\n",
    "            writer.write(chunk)\n",
    "\n",
    "\n",
    "\n",
    "\n",
    "\n",
    "\n"
   ]
  },
  {
   "cell_type": "code",
   "execution_count": null,
   "id": "bafae327-a6b2-4c7d-890b-b88f17e93f05",
   "metadata": {},
   "outputs": [],
   "source": []
  },
  {
   "cell_type": "markdown",
   "id": "4e52e4fd-711a-45c9-ae46-1c0a6ac25b60",
   "metadata": {},
   "source": [
    "## We also need to get rid of duplicates in affiliation table"
   ]
  },
  {
   "cell_type": "code",
   "execution_count": null,
   "id": "f298b0a1-9c7f-49b6-ab85-3bd9c4193939",
   "metadata": {},
   "outputs": [],
   "source": [
    "affiliations_ds = ds.dataset(\"../data/affiliations.parquet\")\n"
   ]
  },
  {
   "cell_type": "code",
   "execution_count": null,
   "id": "59fe3ae2-7acd-4064-8ee6-a48ca863ce37",
   "metadata": {},
   "outputs": [],
   "source": []
  },
  {
   "cell_type": "code",
   "execution_count": null,
   "id": "399eaf0b-5ca4-429d-ae30-7f6d086bd3d7",
   "metadata": {},
   "outputs": [],
   "source": []
  },
  {
   "cell_type": "code",
   "execution_count": null,
   "id": "a88cc76c-ec7e-4364-ba54-42e57bea74bd",
   "metadata": {},
   "outputs": [],
   "source": []
  },
  {
   "cell_type": "code",
   "execution_count": null,
   "id": "13604600-30f3-4a2a-9fb3-184976714cfa",
   "metadata": {},
   "outputs": [],
   "source": []
  }
 ],
 "metadata": {
  "kernelspec": {
   "display_name": "Python 3 (ipykernel)",
   "language": "python",
   "name": "python3"
  },
  "language_info": {
   "codemirror_mode": {
    "name": "ipython",
    "version": 3
   },
   "file_extension": ".py",
   "mimetype": "text/x-python",
   "name": "python",
   "nbconvert_exporter": "python",
   "pygments_lexer": "ipython3",
   "version": "3.12.3"
  }
 },
 "nbformat": 4,
 "nbformat_minor": 5
}
